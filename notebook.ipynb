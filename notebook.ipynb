{
 "cells": [
  {
   "cell_type": "code",
   "execution_count": 66,
   "metadata": {},
   "outputs": [
    {
     "name": "stdout",
     "output_type": "stream",
     "text": [
      "bert_load_from_file: gguf version     = 2\n",
      "bert_load_from_file: gguf alignment   = 32\n",
      "bert_load_from_file: gguf data offset = 695552\n",
      "bert_load_from_file: model name           = BERT\n",
      "bert_load_from_file: model architecture   = bert\n",
      "bert_load_from_file: model file type      = 1\n",
      "bert_load_from_file: bert tokenizer vocab = 30522\n"
     ]
    }
   ],
   "source": [
    "import chromadb\n",
    "import pandas as pd\n",
    "from langchain.embeddings import GPT4AllEmbeddings\n",
    "\n",
    "gpt4all_embd = GPT4AllEmbeddings()\n",
    "\n",
    "client_chroma = chromadb.PersistentClient(path=\"db/\")"
   ]
  },
  {
   "cell_type": "code",
   "execution_count": 122,
   "metadata": {},
   "outputs": [
    {
     "data": {
      "text/plain": [
       "9724"
      ]
     },
     "execution_count": 122,
     "metadata": {},
     "output_type": "execute_result"
    }
   ],
   "source": [
    "import os\n",
    "import psycopg2\n",
    "\n",
    "# Get the database credentials from environment variables\n",
    "host = os.getenv(\"DB_HOST\")\n",
    "port = os.getenv(\"DB_PORT\")\n",
    "database = os.getenv(\"DB_NAME\")\n",
    "user = os.getenv(\"DB_USER\")\n",
    "password = os.getenv(\"DB_PASSWORD\")\n",
    "\n",
    "# Connect to the PostgreSQL database\n",
    "connection = psycopg2.connect(\n",
    "    host=host,\n",
    "    port=port,\n",
    "    database=database,\n",
    "    user=user,\n",
    "    password=password\n",
    ")\n",
    "\n",
    "cursor = connection.cursor()\n",
    "\n",
    "SQL_avg_rating = \"SELECT movieId, SUM(RATING)/COUNT(*) as AVG_RATING FROM ratings GROUP BY movieId\"\n",
    "\n",
    "SQL_tags_cat = \"SELECT movieId, STRING_AGG(tag, ' ') FROM tags GROUP BY movieId\"\n",
    "\n",
    "SQL_movies = \"SELECT movieId as mainMovieId, title, genres FROM movies\"\n",
    "\n",
    "QUERY = f\"\"\"\n",
    "SELECT mvTcat.title, mvTcat.genres, rate.AVG_RATING, mvTcat.STRING_AGG\n",
    "FROM\n",
    "(\n",
    "    ({SQL_movies}) mv\n",
    "    JOIN ({SQL_tags_cat}) tcat\n",
    "    ON mv.mainMovieId = tcat.movieId\n",
    ") mvTcat\n",
    "JOIN ({SQL_avg_rating}) rate\n",
    "ON mvTcat.mainMovieId = rate.movieId;\n",
    "\"\"\"\n",
    "\n",
    "cursor.execute(SQL_avg_rating)\n",
    "response = cursor.fetchall()\n",
    "len(response)\n",
    "\n",
    "# item_to_be_saved = {title} {genre} {rating} {tag1} {tag2}....{tagN}"
   ]
  },
  {
   "cell_type": "code",
   "execution_count": 72,
   "metadata": {},
   "outputs": [],
   "source": [
    "bak = response.copy()"
   ]
  },
  {
   "cell_type": "code",
   "execution_count": 85,
   "metadata": {},
   "outputs": [],
   "source": [
    "final_data = list(map(lambda x: \" \".join([str(k) for k in list(x)]), bak))"
   ]
  },
  {
   "cell_type": "code",
   "execution_count": 89,
   "metadata": {},
   "outputs": [
    {
     "data": {
      "text/plain": [
       "Collection(name=movies)"
      ]
     },
     "execution_count": 89,
     "metadata": {},
     "output_type": "execute_result"
    }
   ],
   "source": [
    "client_chroma.create_collection('movies')"
   ]
  },
  {
   "cell_type": "code",
   "execution_count": 90,
   "metadata": {},
   "outputs": [
    {
     "name": "stderr",
     "output_type": "stream",
     "text": [
      "100%|██████████| 48287/48287 [12:16<00:00, 65.58it/s]\n"
     ]
    }
   ],
   "source": [
    "from tqdm import tqdm\n",
    "\n",
    "idX = 0\n",
    "for data in tqdm(final_data):\n",
    "\n",
    "    # Insert item_to_be_saved into the embedding engine \n",
    "    doc_result = gpt4all_embd.embed_query(data)\n",
    "    doc_result\n",
    "\n",
    "    # Save the embedded document to Chroma\n",
    "    collection = client_chroma.get_collection('movies')\n",
    "\n",
    "    # Use the following code as an example\n",
    "    collection.add(\n",
    "        embeddings =[doc_result],\n",
    "        documents = [data],\n",
    "        metadatas = [{\"source\": \"batch\"}],\n",
    "        ids = [str(idX)]\n",
    "    )\n",
    "\n",
    "    idX += 1"
   ]
  },
  {
   "cell_type": "code",
   "execution_count": 115,
   "metadata": {},
   "outputs": [
    {
     "data": {
      "text/plain": [
       "{'ids': [['6253', '1586', '6346', '912']],\n",
       " 'distances': [[0.8868856430053711,\n",
       "   0.9187239408493042,\n",
       "   0.9367409944534302,\n",
       "   0.9552434682846069]],\n",
       " 'metadatas': [[{'source': 'batch'},\n",
       "   {'source': 'batch'},\n",
       "   {'source': 'batch'},\n",
       "   {'source': 'batch'}]],\n",
       " 'embeddings': None,\n",
       " 'documents': [['Munich (2005) Action|Crime|Drama|Thriller 5.0 In Netflix queue',\n",
       "   'Munich (2005) Action|Crime|Drama|Thriller 4.5 In Netflix queue',\n",
       "   'Munich (2005) Action|Crime|Drama|Thriller 3.5 In Netflix queue',\n",
       "   'Munich (2005) Action|Crime|Drama|Thriller 4.0 In Netflix queue']],\n",
       " 'uris': None,\n",
       " 'data': None}"
      ]
     },
     "execution_count": 115,
     "metadata": {},
     "output_type": "execute_result"
    }
   ],
   "source": [
    "collection = client_chroma.get_collection('movies')\n",
    "data = \"recommend movies with 5 stars\" \n",
    "doc_result = gpt4all_embd.embed_query(data)\n",
    "doc_result\n",
    "\n",
    "collection.query(\n",
    "    query_embeddings=doc_result,\n",
    "    n_results=4\n",
    ")"
   ]
  },
  {
   "cell_type": "code",
   "execution_count": null,
   "metadata": {},
   "outputs": [],
   "source": []
  }
 ],
 "metadata": {
  "kernelspec": {
   "display_name": "Python 3",
   "language": "python",
   "name": "python3"
  },
  "language_info": {
   "codemirror_mode": {
    "name": "ipython",
    "version": 3
   },
   "file_extension": ".py",
   "mimetype": "text/x-python",
   "name": "python",
   "nbconvert_exporter": "python",
   "pygments_lexer": "ipython3",
   "version": "3.10.12"
  }
 },
 "nbformat": 4,
 "nbformat_minor": 2
}
